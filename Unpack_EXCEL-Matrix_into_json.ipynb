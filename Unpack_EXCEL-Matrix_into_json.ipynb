{
 "cells": [
  {
   "cell_type": "markdown",
   "metadata": {},
   "source": [
    "# Script to transform the EXCEL-Sheet with the transition-Matrix into a valid json-formatted file which can be placed into the flow"
   ]
  },
  {
   "cell_type": "markdown",
   "metadata": {},
   "source": [
    "# Make imports"
   ]
  },
  {
   "cell_type": "code",
   "execution_count": 1,
   "metadata": {},
   "outputs": [],
   "source": [
    "import json\n",
    "import pandas as pd"
   ]
  },
  {
   "cell_type": "markdown",
   "metadata": {},
   "source": [
    "# Define variables"
   ]
  },
  {
   "cell_type": "code",
   "execution_count": 2,
   "metadata": {},
   "outputs": [],
   "source": [
    "source_file = './valves_matrix_edited.xlsx'\n",
    "source_table = 'Transition_Matrix'\n",
    "destination_file = source_file.replace('.xlsx','.json')"
   ]
  },
  {
   "cell_type": "markdown",
   "metadata": {},
   "source": [
    "# Read the excel sheet and show that it worked"
   ]
  },
  {
   "cell_type": "code",
   "execution_count": 3,
   "metadata": {},
   "outputs": [
    {
     "data": {
      "text/html": [
       "<div>\n",
       "<style scoped>\n",
       "    .dataframe tbody tr th:only-of-type {\n",
       "        vertical-align: middle;\n",
       "    }\n",
       "\n",
       "    .dataframe tbody tr th {\n",
       "        vertical-align: top;\n",
       "    }\n",
       "\n",
       "    .dataframe thead th {\n",
       "        text-align: right;\n",
       "    }\n",
       "</style>\n",
       "<table border=\"1\" class=\"dataframe\">\n",
       "  <thead>\n",
       "    <tr style=\"text-align: right;\">\n",
       "      <th></th>\n",
       "      <th>STATE</th>\n",
       "      <th>EVENT</th>\n",
       "      <th>ACTION</th>\n",
       "      <th>NEW_STATE</th>\n",
       "    </tr>\n",
       "  </thead>\n",
       "  <tbody>\n",
       "    <tr>\n",
       "      <th>0</th>\n",
       "      <td>CLOSED</td>\n",
       "      <td>ack_fault_recieved</td>\n",
       "      <td>*</td>\n",
       "      <td>-</td>\n",
       "    </tr>\n",
       "    <tr>\n",
       "      <th>1</th>\n",
       "      <td>CLOSED</td>\n",
       "      <td>command_close_recieved</td>\n",
       "      <td>*</td>\n",
       "      <td>-</td>\n",
       "    </tr>\n",
       "    <tr>\n",
       "      <th>2</th>\n",
       "      <td>CLOSED</td>\n",
       "      <td>signal_closed_recieved</td>\n",
       "      <td>*</td>\n",
       "      <td>-</td>\n",
       "    </tr>\n",
       "    <tr>\n",
       "      <th>3</th>\n",
       "      <td>CLOSED</td>\n",
       "      <td>timer_up_closing</td>\n",
       "      <td>*</td>\n",
       "      <td>-</td>\n",
       "    </tr>\n",
       "    <tr>\n",
       "      <th>4</th>\n",
       "      <td>CLOSED</td>\n",
       "      <td>timer_up_opening</td>\n",
       "      <td>*</td>\n",
       "      <td>-</td>\n",
       "    </tr>\n",
       "  </tbody>\n",
       "</table>\n",
       "</div>"
      ],
      "text/plain": [
       "    STATE                   EVENT ACTION NEW_STATE\n",
       "0  CLOSED      ack_fault_recieved      *         -\n",
       "1  CLOSED  command_close_recieved      *         -\n",
       "2  CLOSED  signal_closed_recieved      *         -\n",
       "3  CLOSED        timer_up_closing      *         -\n",
       "4  CLOSED        timer_up_opening      *         -"
      ]
     },
     "execution_count": 3,
     "metadata": {},
     "output_type": "execute_result"
    }
   ],
   "source": [
    "df = pd.read_excel(source_file,sheet_name=source_table)\n",
    "df.head()"
   ]
  },
  {
   "cell_type": "markdown",
   "metadata": {},
   "source": [
    "# Example how the flow is formatted"
   ]
  },
  {
   "cell_type": "code",
   "execution_count": 4,
   "metadata": {},
   "outputs": [],
   "source": [
    "example = '''\n",
    "[\n",
    "    {\n",
    "        \"id\": \"17fbbe06.3b0bfa\",\n",
    "        \"type\": \"FSM\",\n",
    "        \"z\": \"1c3e6ba1.a860d4\",\n",
    "        \"name\": \"test\",\n",
    "        \"topic\": \"test\",\n",
    "        \"initstate\": \"test\",\n",
    "        \"inittran\": \"TR_INIT\",\n",
    "        \"entry\": false,\n",
    "        \"exit\": false,\n",
    "        \"tran\": true,\n",
    "        \"rules\": [\n",
    "            {\n",
    "                \"n\": \"INIT__cmd_open__OPENING__act_start_opening_timer\",\n",
    "                \"c\": \"cmd_open\",\n",
    "                \"s\": \"INIT\",\n",
    "                \"d\": \"OPENING\",\n",
    "                \"t\": \"true\"\n",
    "            }\n",
    "        ],\n",
    "        \"x\": 480,\n",
    "        \"y\": 220,\n",
    "        \"wires\": [\n",
    "            []\n",
    "        ]\n",
    "    }\n",
    "]\n",
    "'''"
   ]
  },
  {
   "cell_type": "markdown",
   "metadata": {},
   "source": [
    "# Generate a list of rules which follow the formatting-rule of the flow"
   ]
  },
  {
   "cell_type": "code",
   "execution_count": 5,
   "metadata": {},
   "outputs": [],
   "source": [
    "separator = '__'\n",
    "rules = []\n",
    "for idx, row in df.iterrows():\n",
    "    #Unpack the row\n",
    "    state = row['STATE']\n",
    "    event = row['EVENT']\n",
    "    action = row['ACTION']\n",
    "    action_str = ';'.join(action.split(', '))\n",
    "    new_state = row['NEW_STATE']\n",
    "    \n",
    "    #Check if the entry does anything\n",
    "    if not action_str == '*' or not new_state == '-':\n",
    "        # If no transition but action required, transition back into current state to trigger a msg-object\n",
    "        if new_state == '-':\n",
    "            new_state = state\n",
    "        new_rule = {\n",
    "            \"n\": state+separator+event+separator+new_state+separator+action_str,\n",
    "            \"c\": event,\n",
    "            \"s\": state,\n",
    "            \"d\": new_state,\n",
    "            \"t\": \"true\",\n",
    "        }\n",
    "        rules.append(new_rule)"
   ]
  },
  {
   "cell_type": "markdown",
   "metadata": {},
   "source": [
    "# Convert the list to json-syntax and save it to file"
   ]
  },
  {
   "cell_type": "code",
   "execution_count": 6,
   "metadata": {},
   "outputs": [
    {
     "name": "stdout",
     "output_type": "stream",
     "text": [
      "All Done\n"
     ]
    }
   ],
   "source": [
    "json_str = json.dumps(rules)\n",
    "with open(destination_file,'w') as f:\n",
    "    f.write(json_str)\n",
    "print('All Done')"
   ]
  }
 ],
 "metadata": {
  "kernelspec": {
   "display_name": "Python 3",
   "language": "python",
   "name": "python3"
  },
  "language_info": {
   "codemirror_mode": {
    "name": "ipython",
    "version": 3
   },
   "file_extension": ".py",
   "mimetype": "text/x-python",
   "name": "python",
   "nbconvert_exporter": "python",
   "pygments_lexer": "ipython3",
   "version": "3.7.3"
  }
 },
 "nbformat": 4,
 "nbformat_minor": 2
}
