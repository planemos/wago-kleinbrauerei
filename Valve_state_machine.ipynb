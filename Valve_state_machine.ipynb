{
 "cells": [
  {
   "cell_type": "markdown",
   "metadata": {},
   "source": [
    "# Make imports"
   ]
  },
  {
   "cell_type": "code",
   "execution_count": 1,
   "metadata": {},
   "outputs": [],
   "source": [
    "import pandas as pd\n",
    "from itertools import product\n",
    "import subprocess, os"
   ]
  },
  {
   "cell_type": "markdown",
   "metadata": {},
   "source": [
    "# Parameterize the State Machine"
   ]
  },
  {
   "cell_type": "code",
   "execution_count": 2,
   "metadata": {},
   "outputs": [],
   "source": [
    "file_name = 'valves_matrix.xlsx'"
   ]
  },
  {
   "cell_type": "code",
   "execution_count": 3,
   "metadata": {},
   "outputs": [],
   "source": [
    "states = 'INIT OPENING OPEN CLOSING CLOSED FAULT'.split(' ')\n",
    "events = 'command_open_recieved command_close_recieved ack_fault_recieved signal_open_recieved signal_closed_recieved timer_up_closing timer_up_opening error'.split(' ')\n",
    "actions = 'open close start_timer_opening start_timer_closing reset_timer_opening reset_timer_closing log_error alert_error'.split(' ')"
   ]
  },
  {
   "cell_type": "markdown",
   "metadata": {},
   "source": [
    "# Generate the necessary content"
   ]
  },
  {
   "cell_type": "code",
   "execution_count": 4,
   "metadata": {},
   "outputs": [],
   "source": [
    "combinations = list(product(states, events))\n",
    "state_list, event_list = map(list, zip(*combinations))\n",
    "empty_list = ['' for _ in range(len(combinations))]"
   ]
  },
  {
   "cell_type": "code",
   "execution_count": 5,
   "metadata": {},
   "outputs": [],
   "source": [
    "matrix_dict = {\n",
    "    'STATE':state_list,\n",
    "    'EVENT':event_list,\n",
    "    'ACTION':empty_list,\n",
    "    'NEW_STATE':empty_list,\n",
    "}\n",
    "\n",
    "actions_dict = {\n",
    "    'POSSIBLE_ACTIONS':actions,\n",
    "}\n",
    "\n",
    "states_dict = {\n",
    "    'POSSIBLE_STATES':states,\n",
    "}\n",
    "\n",
    "events_dict = {\n",
    "    'POSSIBLE_EVENTS':events,\n",
    "}"
   ]
  },
  {
   "cell_type": "code",
   "execution_count": 6,
   "metadata": {},
   "outputs": [],
   "source": [
    "matrix = pd.DataFrame(matrix_dict)\n",
    "actions = pd.DataFrame(actions_dict)\n",
    "states = pd.DataFrame(states_dict)\n",
    "events = pd.DataFrame(events_dict)"
   ]
  },
  {
   "cell_type": "markdown",
   "metadata": {},
   "source": [
    "# Write the calculated restults to file"
   ]
  },
  {
   "cell_type": "code",
   "execution_count": 7,
   "metadata": {},
   "outputs": [
    {
     "name": "stdout",
     "output_type": "stream",
     "text": [
      "All Done!\n"
     ]
    }
   ],
   "source": [
    "with pd.ExcelWriter(file_name, engine='xlsxwriter') as writer:\n",
    "    pd.DataFrame({'Date':[''],'Name':[''],'Change':['']}).to_excel(writer,'Last_updated')\n",
    "    matrix.to_excel(writer,'Transition_Matrix', index=False)\n",
    "    actions.to_excel(writer,'Actions')\n",
    "    states.to_excel(writer,'States')\n",
    "    events.to_excel(writer,'Events')\n",
    "    \n",
    "print('All Done!')"
   ]
  },
  {
   "cell_type": "markdown",
   "metadata": {},
   "source": [
    "## Trying to open the directory"
   ]
  },
  {
   "cell_type": "code",
   "execution_count": 8,
   "metadata": {},
   "outputs": [
    {
     "name": "stdout",
     "output_type": "stream",
     "text": [
      "Opened location of the file\"C:\\Users\\jan.Macenka\\Desktop\\wago2\"\n"
     ]
    }
   ],
   "source": [
    "file_location = os.getcwd()\n",
    "try:\n",
    "    subprocess.Popen(['xdg-open',file_location]);\n",
    "    print(f'Opened location of the file \"{file_location}\"')\n",
    "except:\n",
    "    try:\n",
    "        subprocess.Popen(['explorer',file_location]);\n",
    "        print(f'Opened location of the file\"{file_location}\"')\n",
    "    except:\n",
    "        print('Something went wrong, you have to open the directory yourselv.')"
   ]
  }
 ],
 "metadata": {
  "kernelspec": {
   "display_name": "Python 3",
   "language": "python",
   "name": "python3"
  },
  "language_info": {
   "codemirror_mode": {
    "name": "ipython",
    "version": 3
   },
   "file_extension": ".py",
   "mimetype": "text/x-python",
   "name": "python",
   "nbconvert_exporter": "python",
   "pygments_lexer": "ipython3",
   "version": "3.7.0"
  }
 },
 "nbformat": 4,
 "nbformat_minor": 2
}
